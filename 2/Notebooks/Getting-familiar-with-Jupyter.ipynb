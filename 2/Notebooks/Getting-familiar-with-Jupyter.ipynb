{
 "cells": [
  {
   "cell_type": "markdown",
   "id": "5dde233d-e01e-4c62-9aa4-1461e2e13903",
   "metadata": {},
   "source": [
    "## What is Jupyter?\n",
    "\n",
    "Jupyter allows you to run python code in a webbrowser, visualize data and lets you add additional notes about the code in a nice way. Therefore, the individual files are called Jupyter *Notebooks*. We will use these notebooks quite often during the course and we will therefore get familiar with them.\n",
    "\n",
    "### Running a Notebook\n",
    "\n",
    "Each notebook consists of many cells. For instance, you are currently reading this text in a cell. They can be thought of as sections in a book that can be read individually without reading the whole book. Some of these cells contain text, math, figures or python code. If they do contain python code, you can execute the code by clicking the \"Play button\" at the top of the window or just press `Shift+Enter`. Try to execture the cell below."
   ]
  },
  {
   "cell_type": "code",
   "execution_count": 1,
   "id": "4d8265b4-66d6-4721-9862-cb030b6ac0ed",
   "metadata": {},
   "outputs": [
    {
     "name": "stdout",
     "output_type": "stream",
     "text": [
      "This cell executes python code\n"
     ]
    }
   ],
   "source": [
    "print(\"This cell executes python code\")"
   ]
  },
  {
   "cell_type": "markdown",
   "id": "73c2f55d-c4a3-4fd3-b29b-512b2ed7952f",
   "metadata": {},
   "source": [
    "## Python Coding\n",
    "\n",
    "This course does not require you to be familiar with reading or writing python code. However, we highly encourage you to learn the basics."
   ]
  }
 ],
 "metadata": {
  "kernelspec": {
   "display_name": "Python 3 (ipykernel)",
   "language": "python",
   "name": "python3"
  },
  "language_info": {
   "codemirror_mode": {
    "name": "ipython",
    "version": 3
   },
   "file_extension": ".py",
   "mimetype": "text/x-python",
   "name": "python",
   "nbconvert_exporter": "python",
   "pygments_lexer": "ipython3",
   "version": "3.12.0"
  }
 },
 "nbformat": 4,
 "nbformat_minor": 5
}
