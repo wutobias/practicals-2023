{
 "cells": [
  {
   "cell_type": "markdown",
   "id": "e30943d8-2b03-4fc5-83d8-40a378b3acdc",
   "metadata": {},
   "source": [
    "## Setting up the Google Colab\n",
    "\n",
    "In order to prepare the Google Colab, please run the two cells below. After the second cell has run, restart the session."
   ]
  },
  {
   "cell_type": "code",
   "execution_count": null,
   "id": "b6642ba0-4189-4356-acc6-7828368a8002",
   "metadata": {},
   "outputs": [],
   "source": [
    "!git clone https://github.com/wutobias/practicals-2023\n",
    "!cp -r practicals-2023/3/Notebooks/* ."
   ]
  },
  {
   "cell_type": "code",
   "execution_count": null,
   "id": "d7953558-f702-4742-b162-e770b9e6bad8",
   "metadata": {},
   "outputs": [],
   "source": [
    "!pip install rdkit pandas scikit-learn numpy matplotlib nglview\n",
    "!apt-get install pymol openbabel"
   ]
  },
  {
   "cell_type": "markdown",
   "id": "26433d48-1279-4dba-9785-7e81ce5d923f",
   "metadata": {},
   "source": [
    "# Structure Based Design\n",
    "\n",
    "In this practical we will use structural information to guide the design of drug molecules. We will use the three dimensional structure of a protein and try to find molecules that form a stable complex with the protein. Note how this is different from our previous practical, where we only had information about the chemical structure and binding affinity of the ligands.\n",
    "We will use the same target protein as in the previous practical, Human cAMP-dependent protein kinase (PKA), and the same set of binders for our structure-based design.\n",
    "\n",
    "## Searching the PDB\n",
    "\n",
    "Now that we have the chemical structures and binding affinities from our last practical, we want to start exploring structural information about the target. For this we will go to the PDB database (https://www.rcsb.org) and enter the UniProt-ID of our target protein `P17612` into the search mask. You will now see a whole list with structures that match our target protein. Look at the different information displayed for each entry.\n",
    "\n",
    "1.) What is Xray crystal structure determination?\n",
    "\n",
    "2.) Suggest criteria to pick the best structure from the list.\n",
    "\n",
    "## Looking at the Protein Structure\n",
    "\n",
    "### General Overview of the PDB data\n",
    "\n",
    "Now pick the structure with pdb code `3OVV` by clicking on the entry.\n",
    "\n",
    "1.) We have picked a structure that already contains an inhibitor. Could we have also picked one with an empty binding site (i.e. a holo structure)? Could the choice of crystal structure bias our results?\n",
    "\n",
    "2.) Look at the panel `Sequence Annotations` and explain what the \"DISORDER\" chart tells you. Why is it higher at the ends of the sequence?\n",
    "\n",
    "### Structural Overview\n",
    "\n",
    "Click on `Structure` right next to `Structure in 3D` to inspect the three dimensional structure of the protein bound with an inhibitor. \n",
    "\n",
    "1.) Can you identify the inhibitor?\n",
    "\n",
    "### Identifying the Binding Site\n",
    "\n",
    "On the right panel click `+ Add` and select `Type->Protein` and pick the representation mode `Molecular Surface`.\n",
    "\n",
    "1.) Can you identify the binding site? \n",
    "\n",
    "2.) Is the binding site buried or solvent exposed?\n",
    "\n",
    "### Electron Density and Interaction Analysis\n",
    "\n",
    "Click on `Electron Density` right next to `Structure in 3D` to inspect the electron density. First click on the inihibitor again. Now the blue transparent surface displays the electron density and the dashed lines display interatomic interactions.\n",
    "\n",
    "1.) Is the inhibitor nicely modelled into the electron density?\n",
    "\n",
    "2.) What are the big red spheres?\n",
    "\n",
    "3.) Describe the interactions that the inhibitor can undergo. Which of these will be stronger, which one will be weaker?"
   ]
  },
  {
   "cell_type": "markdown",
   "id": "bf0d3e97-4729-4445-8bab-28d0ca2b17a6",
   "metadata": {},
   "source": [
    "## Recovering our database\n",
    "\n",
    "We will recover our database from the previous practical and load it into a pandas dataframe (run the cell below)."
   ]
  },
  {
   "cell_type": "code",
   "execution_count": null,
   "id": "aadc1413-77bc-431c-8063-65b9d8c75fc5",
   "metadata": {},
   "outputs": [],
   "source": [
    "import pandas as pd\n",
    "output_df = pd.read_csv(\"./binders.csv\")\n",
    "\n",
    "from rdkit.Chem import Descriptors, Draw, PandasTools\n",
    "molecules = pd.DataFrame(\n",
    "    {\"molecule_chembl_id\"   : output_df[\"molecule_chembl_id\"], \n",
    "     \"smiles\" : output_df[\"smiles\"],\n",
    "     \"pIC50\"  : output_df[\"pIC50\"],\n",
    "     \"active\" : [1 for _ in range(output_df.shape[0])]\n",
    "    })"
   ]
  },
  {
   "cell_type": "markdown",
   "id": "55258415-eda6-44ba-b10c-1af0bfa4fa68",
   "metadata": {},
   "source": [
    "## Docking\n",
    "\n",
    "Next we will run the docking using the program `autodock-vina`. This will take some time, so you won't do this now during the practical. Instead, your instructor has already carried out the docking for you. Of course, you are free to repeat it yourself after the practical."
   ]
  },
  {
   "cell_type": "raw",
   "id": "521e0409-dfd5-496c-816d-4ec385e03fb8",
   "metadata": {},
   "source": [
    "from helpers import ad4v_dock\n",
    "ad4v_dock(molecules, \"3ovv_prot.pdbqt\", [ -7.731, -8.501, 19.163])"
   ]
  },
  {
   "cell_type": "code",
   "execution_count": null,
   "id": "cd6826fb-d081-4c12-a123-fad9d0e0580c",
   "metadata": {},
   "outputs": [],
   "source": [
    "from helpers import read_pdbqt\n",
    "molecules = read_pdbqt(molecules)"
   ]
  },
  {
   "cell_type": "markdown",
   "id": "a62afb84-358c-497a-8cb3-a632ba64328f",
   "metadata": {},
   "source": [
    "## Re-dock the crystal structure\n",
    "\n",
    "Next, we want to re-dock the ligand from the crystal structure. This was already done for you and the results can be visualized below (run the cell first).\n",
    "The docked and the experimentally resolved ligand do not overlap for the post with the best score. Change the the pose index `POSE_IDX` until you find a docked pose that matches nicely with the experimentally resolved structure.\n",
    "\n",
    "**Note**: If nothing will be displayed, we will be doing this excercise together.\n",
    "\n",
    "1.) Describe how the correctly and incorrectly docked poses compare with the crystal structure of the ligand.\n",
    "\n",
    "2.) Also run the cell two below in order to print out the scores for each of the docking poses. What does it tell you qualititatively about the shape of the scoring function surface?"
   ]
  },
  {
   "cell_type": "code",
   "execution_count": null,
   "id": "274d5484-1387-4631-927c-3f6763df92cb",
   "metadata": {},
   "outputs": [],
   "source": [
    "import nglview as nv\n",
    "POSE_IDX = 0\n",
    "\n",
    "from google.colab import output\n",
    "output.enable_custom_widget_manager()\n",
    "\n",
    "view = nv.NGLWidget()\n",
    "view.add_structure(\n",
    "    nv.FileStructure(\"ligand.pdbqt\"))\n",
    "view.add_structure(\n",
    "    nv.FileStructure(\"ligand_dock.pdbqt\"))\n",
    "view._remote_call('setSelection', target='compList', args=[f\"/{POSE_IDX}\"], \n",
    "               kwargs=dict(component_index=1))\n",
    "view.add_structure(\n",
    "    nv.FileStructure(\"3ovv_prot.pdbqt\"))\n",
    "view"
   ]
  },
  {
   "cell_type": "code",
   "execution_count": null,
   "id": "bf64641f-2f4c-4260-92c4-9dbd68dbf2f4",
   "metadata": {},
   "outputs": [],
   "source": [
    "with open(\"ligand_dock.pdbqt\", \"r\") as fopen:\n",
    "    counts = 0\n",
    "    for line in fopen:\n",
    "        if \"REMARK VINA RESULT:\" in line:\n",
    "            line = line.rstrip().lstrip().split()\n",
    "            print(f\"Pose {counts}, Score {line[3]}\")\n",
    "            counts += 1"
   ]
  },
  {
   "cell_type": "markdown",
   "id": "de53d1ed-225b-4539-ad5f-d4068f6677c8",
   "metadata": {},
   "source": [
    "## Visualize docked ligands\n",
    "\n",
    "Next, we will visualize some of the docked ligands and analyze their interactions with the target protein. For that purpose, download the file `docked_pdb.zip` and unpack it. Upload the pdb files to the PLIP server (https://plip-tool.biotec.tu-dresden.de/plip-web/plip/index) to analyse and visualize the interactions of the docked complexes.\n",
    "\n",
    "1.) Identify hydrogen bonds and hydrophobic interactions.\n",
    "\n",
    "2.) Below is a list of the ligands sorted by docking score. What are the differences between a high and a low scoring ligand."
   ]
  },
  {
   "cell_type": "code",
   "execution_count": null,
   "id": "c83a90f2-e395-495b-8dd3-6d654038fe5b",
   "metadata": {},
   "outputs": [],
   "source": [
    "molecules.sort_values(\"score-0\")"
   ]
  },
  {
   "cell_type": "markdown",
   "id": "6e97842e-f522-4688-a003-42d690248e53",
   "metadata": {},
   "source": [
    "## Develop your own Molecules\n",
    "\n",
    "Below you have the chance to develop your own molecules by entering their smiles code into the Python dictionary below. They will be docked and saved into a combined (i.e. receptor + ligand) `.pdb` file which can be upload to the PLIP server and analysed."
   ]
  },
  {
   "cell_type": "code",
   "execution_count": null,
   "id": "a9bfcbe1-0c00-4f4f-ab45-48f3b8306bb7",
   "metadata": {},
   "outputs": [],
   "source": [
    "my_molecules = {\n",
    "    \"Mol-1\" : \"CCCCCNCC\"\n",
    "}\n",
    "\n",
    "from rdkit.Chem import Descriptors, Draw, PandasTools\n",
    "my_molecules = pd.DataFrame(\n",
    "    {\"molecule_chembl_id\"   : my_molecules.keys(), \n",
    "     \"smiles\" : my_molecules.values(),\n",
    "     \"pIC50\"  : [999999. for _ in my_molecules],\n",
    "     \"active\" : [0 for _ in my_molecules],\n",
    "    })\n",
    "PandasTools.RenderImagesInAllDataFrames(images=True)\n",
    "PandasTools.AddMoleculeColumnToFrame(my_molecules, \"smiles\", includeFingerprints=True)\n",
    "\n",
    "from helpers import ad4v_dock\n",
    "ad4v_dock(my_molecules, \"3ovv_prot.pdbqt\", [ -7.731, -8.501, 19.163])\n",
    "\n",
    "from helpers import read_pdbqt\n",
    "my_molecules = read_pdbqt(my_molecules)\n",
    "\n",
    "from helpers import combine_pdbqt\n",
    "combine_pdbqt(my_molecules, \"3ovv_prot.pdbqt\")"
   ]
  },
  {
   "cell_type": "code",
   "execution_count": null,
   "id": "06ddd2cb-163c-4aed-934c-4f55e17cf5fc",
   "metadata": {},
   "outputs": [],
   "source": [
    "my_molecules"
   ]
  },
  {
   "cell_type": "markdown",
   "id": "3589c6fb-53ae-4a67-aea1-165a0c23a26f",
   "metadata": {},
   "source": [
    "## Extra Analysis: Lack of negative binding data\n",
    "\n",
    "Note: This is analysis is not mandatory for the practical. Still, you're welcome to do it.\n",
    "\n",
    "Ultimately we will want to explore how well our docking method will be able to identify true binders and seperate them out from the non-binders. This is another way of saying we want our docking method to generate many true positives and only little (or now) false positives. This will only work if our dataset contains **both** true negative examples (i.e. non-binders) and true positive examples (binders). However, we only have access to true binders, because this is what is usually published in the literature. To circumvent this problem, we will have to generate virtual non-binders, also called decoys. These decoy molecules are generated using the method of \"Property-matched Decoys\". For this to work, we will first cluster our molecules and then pick the cluster centers as the input for the `DUD-E` webserver (dude.docking.org/generate). Run the cell below to retrieve the smiles codes of the cluster centers.\n",
    "Note: You don't have to generate these decoys now. Your instructor has generated them already.\n",
    "\n",
    "1.) What are true positives and what are false positives?\n",
    "\n",
    "2.) What are \"Property-matched Decoys\"? See this paper (DOI): doi.org/10.1021/jm300687e\n",
    "\n",
    "3.) What is clustering and what does it achieve in this context?"
   ]
  },
  {
   "cell_type": "code",
   "execution_count": null,
   "id": "0ed4a748-a737-475d-8281-64cb67a7fe5e",
   "metadata": {},
   "outputs": [],
   "source": [
    "from rdkit.Chem import AllChem as Chem\n",
    "fps = list()\n",
    "for smi in output_df[\"smiles\"]:\n",
    "    rdmol = Chem.MolFromSmiles(smi)\n",
    "    fps.append(\n",
    "        Chem.GetMorganFingerprintAsBitVect(rdmol, 2))\n",
    "from helpers import ClusterFps\n",
    "results = ClusterFps(fps, 0.6)\n",
    "for idx_list in results:\n",
    "    smi = output_df.loc[idx_list[0], \"smiles\"]\n",
    "    print(smi)"
   ]
  },
  {
   "cell_type": "markdown",
   "id": "88c998c7-98b2-44f1-a072-9f304cb417c3",
   "metadata": {},
   "source": [
    "## Combining the decoy database and our binder database\n",
    "\n",
    "Now we will add the decoys to the database. We will add a column `active` that equals to `1` if the molecule is a binder and `0` if not.\n",
    "\n",
    "1.) Compare some of the binders and non-binders. Do they look similar?"
   ]
  },
  {
   "cell_type": "code",
   "execution_count": null,
   "id": "c7e0fcd1-9cf8-4f2c-86d7-e807d98cc50c",
   "metadata": {},
   "outputs": [],
   "source": [
    "from rdkit.Chem import Descriptors, Draw, PandasTools\n",
    "molecules = pd.DataFrame(\n",
    "    {\"molecule_chembl_id\"   : output_df[\"molecule_chembl_id\"], \n",
    "     \"smiles\" : output_df[\"smiles\"],\n",
    "     \"pIC50\"  : output_df[\"pIC50\"],\n",
    "     \"active\" : [1 for _ in range(output_df.shape[0])]\n",
    "    })\n",
    "smiles_list = list()\n",
    "import glob\n",
    "for path in glob.glob(\"dude-decoys/decoys/decoys.*.picked\"):\n",
    "    with open(path, \"r\") as fopen:\n",
    "        for line in fopen:\n",
    "            line = line.replace(\"ligand\", \"\")\n",
    "            c = line.rstrip().lstrip().split()\n",
    "            smiles_list.append(c[0])\n",
    "for idx, smi in enumerate(smiles_list[:100]):\n",
    "    Nrows = molecules.shape[0]\n",
    "    molecules.loc[Nrows] = [f\"Decoy-{idx}\", smi, 99999., 0]\n",
    "PandasTools.RenderImagesInAllDataFrames(images=True)\n",
    "PandasTools.AddMoleculeColumnToFrame(molecules, \"smiles\", includeFingerprints=True)"
   ]
  },
  {
   "cell_type": "markdown",
   "id": "8c9c661f-d136-4399-9c37-1ae165947285",
   "metadata": {},
   "source": [
    "## Receiver Operator Characteristic\n",
    "\n",
    "Next, we will look at how our docking method performs on the task of distinguishing true positives from false positives. For that we will plot the ROC (Receiver Operator Characteristic) and compute the AUC (area under the curve).\n",
    "\n",
    "1.) What is the ROC and what does it tell us qualititavely?\n",
    "\n",
    "2.) What does AUC tell us? Is a good value of 0.5 good?"
   ]
  },
  {
   "cell_type": "code",
   "execution_count": null,
   "id": "6e8dbe47-2a88-41b7-b5f0-c1bfa24d0068",
   "metadata": {},
   "outputs": [],
   "source": [
    "from sklearn import metrics\n",
    "y_true = list()\n",
    "y_pred = list()\n",
    "for row_idx, row in molecules[molecules.pIC50 < 4].iterrows():\n",
    "    if row[\"score-0\"] != None:\n",
    "        y_true.append(row[\"active\"])\n",
    "        y_pred.append(-row[\"score-0\"])\n",
    "for row_idx, row in molecules[molecules.active == 0].iterrows():\n",
    "    if row[\"score-0\"] != None:\n",
    "        y_true.append(row[\"active\"])\n",
    "        y_pred.append(-row[\"score-0\"])\n",
    "\n",
    "fpr, tpr, thresholds = metrics.roc_curve(y_true, y_pred)\n",
    "roc_auc = metrics.auc(fpr, tpr)\n",
    "display = metrics.RocCurveDisplay(fpr=fpr, tpr=tpr, roc_auc=roc_auc)\n",
    "display.plot()"
   ]
  }
 ],
 "metadata": {
  "kernelspec": {
   "display_name": "Python 3 (ipykernel)",
   "language": "python",
   "name": "python3"
  },
  "language_info": {
   "codemirror_mode": {
    "name": "ipython",
    "version": 3
   },
   "file_extension": ".py",
   "mimetype": "text/x-python",
   "name": "python",
   "nbconvert_exporter": "python",
   "pygments_lexer": "ipython3",
   "version": "3.12.1"
  }
 },
 "nbformat": 4,
 "nbformat_minor": 5
}
